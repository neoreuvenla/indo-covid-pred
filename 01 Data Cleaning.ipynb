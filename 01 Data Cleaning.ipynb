{
 "cells": [
  {
   "cell_type": "markdown",
   "id": "1930b987",
   "metadata": {},
   "source": [
    "# Data Cleaning"
   ]
  },
  {
   "cell_type": "markdown",
   "id": "5749e828",
   "metadata": {},
   "source": [
    "Data source https://www.kaggle.com/datasets/hendratno/covid19-indonesia\n",
    "\n",
    "This Indonesian COVID-19 dataset is a collection of open data sources, providing a time series of COVID-19 pandemic events from both the country level to the province level. It includes pandemic data, demographic data, and derived values. "
   ]
  },
  {
   "cell_type": "markdown",
   "id": "fe23cb15",
   "metadata": {},
   "source": [
    " The data cleaning process will take place across three broad areas:\n",
    "* Importing: importing libraries, global colors, and data importing\n",
    "* Data Cleaning: checking data types, filtering data, and removing outliers\n",
    "* Saving Data: exporting CSV files"
   ]
  },
  {
   "cell_type": "markdown",
   "id": "4c53e017",
   "metadata": {},
   "source": [
    "# | 1.0 Imports"
   ]
  },
  {
   "cell_type": "markdown",
   "id": "97b98a4f",
   "metadata": {},
   "source": [
    "## || 1.1 Libraries"
   ]
  },
  {
   "cell_type": "code",
   "execution_count": 1,
   "id": "75700d50",
   "metadata": {},
   "outputs": [],
   "source": [
    "import matplotlib.pyplot as plt\n",
    "import numpy as np\n",
    "import pandas as pd\n",
    "import seaborn as sns\n",
    "from statsmodels.tsa.api import SimpleExpSmoothing"
   ]
  },
  {
   "cell_type": "markdown",
   "id": "c7d5b3a9",
   "metadata": {},
   "source": [
    "While shades of grey are preferred for impartial interpretation of data, colours are used here for clarity on computer screens:"
   ]
  },
  {
   "cell_type": "code",
   "execution_count": 2,
   "id": "39865ffa",
   "metadata": {},
   "outputs": [],
   "source": [
    "# global colors\n",
    "data_color = \"#282828\" # grey\n",
    "model_color = \"#00BBF9\" # blue\n",
    "background_color = \"#f5f5f5\" #light grey\n",
    "grid_color = \"#DADADA\" # mid grey"
   ]
  },
  {
   "cell_type": "markdown",
   "id": "e68b0a59",
   "metadata": {},
   "source": [
    "## || 1.2 Data"
   ]
  },
  {
   "cell_type": "markdown",
   "id": "b4f65cfd",
   "metadata": {},
   "source": [
    "The Kaggle dataset is in CSV format and saved locally in the data folder. It is imported into a dataframe, with the number of columns and rows checked against expected respective values:"
   ]
  },
  {
   "cell_type": "code",
   "execution_count": 3,
   "id": "1dc57a59",
   "metadata": {},
   "outputs": [
    {
     "name": "stdout",
     "output_type": "stream",
     "text": [
      "✅ Rows:\t21759\n",
      "✅ Columns:\t38\n"
     ]
    }
   ],
   "source": [
    "# dataset location column and row information\n",
    "data_set = \"./data/raw/covid_19_indonesia_time_series_all.csv\"\n",
    "expected_columns = 38\n",
    "expected_rows = 21759\n",
    "\n",
    "# load local dataset into dataframe\n",
    "raw_data = pd.read_csv(data_set)\n",
    "\n",
    "# check if loaded data matches the expected data\n",
    "if raw_data.shape[0] == expected_rows:\n",
    "    print(\"✅ Rows:\\t{}\".format(expected_rows))\n",
    "else:\n",
    "    print(\"❌ Rows:\\tExpected: {}, Actual: {}\".format(expected_rows, raw_data.shape[0]))\n",
    "\n",
    "if raw_data.shape[1] == expected_columns:\n",
    "    print(\"✅ Columns:\\t{}\".format(expected_columns))\n",
    "else:\n",
    "    print(\"❌ Columns:\\tExpected: {},\\t  Actual: {}\".format(expected_columns, raw_data.shape[1]))"
   ]
  },
  {
   "cell_type": "markdown",
   "id": "90e74b57",
   "metadata": {},
   "source": [
    "The imported dataframe is displayed for a quick visual inspection prior to continuing:"
   ]
  },
  {
   "cell_type": "code",
   "execution_count": 4,
   "id": "a71cf746",
   "metadata": {},
   "outputs": [
    {
     "data": {
      "text/html": [
       "<div>\n",
       "<style scoped>\n",
       "    .dataframe tbody tr th:only-of-type {\n",
       "        vertical-align: middle;\n",
       "    }\n",
       "\n",
       "    .dataframe tbody tr th {\n",
       "        vertical-align: top;\n",
       "    }\n",
       "\n",
       "    .dataframe thead th {\n",
       "        text-align: right;\n",
       "    }\n",
       "</style>\n",
       "<table border=\"1\" class=\"dataframe\">\n",
       "  <thead>\n",
       "    <tr style=\"text-align: right;\">\n",
       "      <th></th>\n",
       "      <th>Date</th>\n",
       "      <th>Location ISO Code</th>\n",
       "      <th>Location</th>\n",
       "      <th>New Cases</th>\n",
       "      <th>New Deaths</th>\n",
       "      <th>New Recovered</th>\n",
       "      <th>New Active Cases</th>\n",
       "      <th>Total Cases</th>\n",
       "      <th>Total Deaths</th>\n",
       "      <th>Total Recovered</th>\n",
       "      <th>Total Active Cases</th>\n",
       "      <th>Location Level</th>\n",
       "      <th>City or Regency</th>\n",
       "      <th>Province</th>\n",
       "      <th>Country</th>\n",
       "      <th>Continent</th>\n",
       "      <th>Island</th>\n",
       "      <th>Time Zone</th>\n",
       "      <th>Special Status</th>\n",
       "      <th>Total Regencies</th>\n",
       "      <th>Total Cities</th>\n",
       "      <th>Total Districts</th>\n",
       "      <th>Total Urban Villages</th>\n",
       "      <th>Total Rural Villages</th>\n",
       "      <th>Area (km2)</th>\n",
       "      <th>Population</th>\n",
       "      <th>Population Density</th>\n",
       "      <th>Longitude</th>\n",
       "      <th>Latitude</th>\n",
       "      <th>New Cases per Million</th>\n",
       "      <th>Total Cases per Million</th>\n",
       "      <th>New Deaths per Million</th>\n",
       "      <th>Total Deaths per Million</th>\n",
       "      <th>Total Deaths per 100rb</th>\n",
       "      <th>Case Fatality Rate</th>\n",
       "      <th>Case Recovered Rate</th>\n",
       "      <th>Growth Factor of New Cases</th>\n",
       "      <th>Growth Factor of New Deaths</th>\n",
       "    </tr>\n",
       "  </thead>\n",
       "  <tbody>\n",
       "    <tr>\n",
       "      <th>0</th>\n",
       "      <td>3/1/2020</td>\n",
       "      <td>ID-JK</td>\n",
       "      <td>DKI Jakarta</td>\n",
       "      <td>2</td>\n",
       "      <td>0</td>\n",
       "      <td>0</td>\n",
       "      <td>2</td>\n",
       "      <td>39</td>\n",
       "      <td>20</td>\n",
       "      <td>41</td>\n",
       "      <td>-22</td>\n",
       "      <td>Province</td>\n",
       "      <td>NaN</td>\n",
       "      <td>DKI Jakarta</td>\n",
       "      <td>Indonesia</td>\n",
       "      <td>Asia</td>\n",
       "      <td>Jawa</td>\n",
       "      <td>UTC+07:00</td>\n",
       "      <td>Daerah Khusus Ibu Kota</td>\n",
       "      <td>1</td>\n",
       "      <td>5.0</td>\n",
       "      <td>44</td>\n",
       "      <td>267.0</td>\n",
       "      <td>NaN</td>\n",
       "      <td>664</td>\n",
       "      <td>10846145</td>\n",
       "      <td>16334.31</td>\n",
       "      <td>106.836118</td>\n",
       "      <td>-6.204699</td>\n",
       "      <td>0.18</td>\n",
       "      <td>3.60</td>\n",
       "      <td>0.0</td>\n",
       "      <td>1.84</td>\n",
       "      <td>0.18</td>\n",
       "      <td>51.28%</td>\n",
       "      <td>105.13%</td>\n",
       "      <td>NaN</td>\n",
       "      <td>NaN</td>\n",
       "    </tr>\n",
       "    <tr>\n",
       "      <th>1</th>\n",
       "      <td>3/2/2020</td>\n",
       "      <td>ID-JK</td>\n",
       "      <td>DKI Jakarta</td>\n",
       "      <td>2</td>\n",
       "      <td>0</td>\n",
       "      <td>0</td>\n",
       "      <td>2</td>\n",
       "      <td>41</td>\n",
       "      <td>20</td>\n",
       "      <td>41</td>\n",
       "      <td>-20</td>\n",
       "      <td>Province</td>\n",
       "      <td>NaN</td>\n",
       "      <td>DKI Jakarta</td>\n",
       "      <td>Indonesia</td>\n",
       "      <td>Asia</td>\n",
       "      <td>Jawa</td>\n",
       "      <td>UTC+07:00</td>\n",
       "      <td>Daerah Khusus Ibu Kota</td>\n",
       "      <td>1</td>\n",
       "      <td>5.0</td>\n",
       "      <td>44</td>\n",
       "      <td>267.0</td>\n",
       "      <td>NaN</td>\n",
       "      <td>664</td>\n",
       "      <td>10846145</td>\n",
       "      <td>16334.31</td>\n",
       "      <td>106.836118</td>\n",
       "      <td>-6.204699</td>\n",
       "      <td>0.18</td>\n",
       "      <td>3.78</td>\n",
       "      <td>0.0</td>\n",
       "      <td>1.84</td>\n",
       "      <td>0.18</td>\n",
       "      <td>48.78%</td>\n",
       "      <td>100.00%</td>\n",
       "      <td>1.0</td>\n",
       "      <td>1.0</td>\n",
       "    </tr>\n",
       "    <tr>\n",
       "      <th>2</th>\n",
       "      <td>3/2/2020</td>\n",
       "      <td>IDN</td>\n",
       "      <td>Indonesia</td>\n",
       "      <td>2</td>\n",
       "      <td>0</td>\n",
       "      <td>0</td>\n",
       "      <td>2</td>\n",
       "      <td>2</td>\n",
       "      <td>0</td>\n",
       "      <td>0</td>\n",
       "      <td>2</td>\n",
       "      <td>Country</td>\n",
       "      <td>NaN</td>\n",
       "      <td>NaN</td>\n",
       "      <td>Indonesia</td>\n",
       "      <td>Asia</td>\n",
       "      <td>NaN</td>\n",
       "      <td>NaN</td>\n",
       "      <td>NaN</td>\n",
       "      <td>416</td>\n",
       "      <td>98.0</td>\n",
       "      <td>7230</td>\n",
       "      <td>8488.0</td>\n",
       "      <td>74953.0</td>\n",
       "      <td>1916907</td>\n",
       "      <td>265185520</td>\n",
       "      <td>138.34</td>\n",
       "      <td>113.921327</td>\n",
       "      <td>-0.789275</td>\n",
       "      <td>0.01</td>\n",
       "      <td>0.01</td>\n",
       "      <td>0.0</td>\n",
       "      <td>0.00</td>\n",
       "      <td>0.00</td>\n",
       "      <td>0.00%</td>\n",
       "      <td>0.00%</td>\n",
       "      <td>NaN</td>\n",
       "      <td>NaN</td>\n",
       "    </tr>\n",
       "  </tbody>\n",
       "</table>\n",
       "</div>"
      ],
      "text/plain": [
       "       Date Location ISO Code     Location  New Cases  New Deaths   \n",
       "0  3/1/2020             ID-JK  DKI Jakarta          2           0  \\\n",
       "1  3/2/2020             ID-JK  DKI Jakarta          2           0   \n",
       "2  3/2/2020               IDN    Indonesia          2           0   \n",
       "\n",
       "   New Recovered  New Active Cases  Total Cases  Total Deaths   \n",
       "0              0                 2           39            20  \\\n",
       "1              0                 2           41            20   \n",
       "2              0                 2            2             0   \n",
       "\n",
       "   Total Recovered  Total Active Cases Location Level  City or Regency   \n",
       "0               41                 -22       Province              NaN  \\\n",
       "1               41                 -20       Province              NaN   \n",
       "2                0                   2        Country              NaN   \n",
       "\n",
       "      Province    Country Continent Island  Time Zone          Special Status   \n",
       "0  DKI Jakarta  Indonesia      Asia   Jawa  UTC+07:00  Daerah Khusus Ibu Kota  \\\n",
       "1  DKI Jakarta  Indonesia      Asia   Jawa  UTC+07:00  Daerah Khusus Ibu Kota   \n",
       "2          NaN  Indonesia      Asia    NaN        NaN                     NaN   \n",
       "\n",
       "   Total Regencies  Total Cities  Total Districts  Total Urban Villages   \n",
       "0                1           5.0               44                 267.0  \\\n",
       "1                1           5.0               44                 267.0   \n",
       "2              416          98.0             7230                8488.0   \n",
       "\n",
       "   Total Rural Villages  Area (km2)  Population  Population Density   \n",
       "0                   NaN         664    10846145            16334.31  \\\n",
       "1                   NaN         664    10846145            16334.31   \n",
       "2               74953.0     1916907   265185520              138.34   \n",
       "\n",
       "    Longitude  Latitude  New Cases per Million  Total Cases per Million   \n",
       "0  106.836118 -6.204699                   0.18                     3.60  \\\n",
       "1  106.836118 -6.204699                   0.18                     3.78   \n",
       "2  113.921327 -0.789275                   0.01                     0.01   \n",
       "\n",
       "   New Deaths per Million  Total Deaths per Million  Total Deaths per 100rb   \n",
       "0                     0.0                      1.84                    0.18  \\\n",
       "1                     0.0                      1.84                    0.18   \n",
       "2                     0.0                      0.00                    0.00   \n",
       "\n",
       "  Case Fatality Rate Case Recovered Rate  Growth Factor of New Cases   \n",
       "0             51.28%             105.13%                         NaN  \\\n",
       "1             48.78%             100.00%                         1.0   \n",
       "2              0.00%               0.00%                         NaN   \n",
       "\n",
       "   Growth Factor of New Deaths  \n",
       "0                          NaN  \n",
       "1                          1.0  \n",
       "2                          NaN  "
      ]
     },
     "execution_count": 4,
     "metadata": {},
     "output_type": "execute_result"
    }
   ],
   "source": [
    "# force pandas to display all columns and print first 3 lines\n",
    "pd.set_option('display.max_columns', None)\n",
    "raw_data.head(3)"
   ]
  },
  {
   "cell_type": "markdown",
   "id": "544c303c",
   "metadata": {},
   "source": [
    "# | 2.0 Data Cleaning"
   ]
  },
  {
   "cell_type": "markdown",
   "id": "d88412e5",
   "metadata": {},
   "source": [
    "## || 2.1 Data Types"
   ]
  },
  {
   "cell_type": "markdown",
   "id": "3fc6ec14",
   "metadata": {},
   "source": [
    "Inspecting the data types reveals a potential problem with the format of the date column. It is subsequently converted to a datetime format inspection:"
   ]
  },
  {
   "cell_type": "code",
   "execution_count": 5,
   "id": "32a6e421",
   "metadata": {},
   "outputs": [
    {
     "name": "stdout",
     "output_type": "stream",
     "text": [
      "<class 'pandas.core.frame.DataFrame'>\n",
      "RangeIndex: 21759 entries, 0 to 21758\n",
      "Data columns (total 38 columns):\n",
      " #   Column                       Non-Null Count  Dtype  \n",
      "---  ------                       --------------  -----  \n",
      " 0   Date                         21759 non-null  object \n",
      " 1   Location ISO Code            21759 non-null  object \n",
      " 2   Location                     21759 non-null  object \n",
      " 3   New Cases                    21759 non-null  int64  \n",
      " 4   New Deaths                   21759 non-null  int64  \n",
      " 5   New Recovered                21759 non-null  int64  \n",
      " 6   New Active Cases             21759 non-null  int64  \n",
      " 7   Total Cases                  21759 non-null  int64  \n",
      " 8   Total Deaths                 21759 non-null  int64  \n",
      " 9   Total Recovered              21759 non-null  int64  \n",
      " 10  Total Active Cases           21759 non-null  int64  \n",
      " 11  Location Level               21759 non-null  object \n",
      " 12  City or Regency              0 non-null      float64\n",
      " 13  Province                     21117 non-null  object \n",
      " 14  Country                      21759 non-null  object \n",
      " 15  Continent                    21759 non-null  object \n",
      " 16  Island                       21117 non-null  object \n",
      " 17  Time Zone                    21117 non-null  object \n",
      " 18  Special Status               3123 non-null   object \n",
      " 19  Total Regencies              21759 non-null  int64  \n",
      " 20  Total Cities                 21145 non-null  float64\n",
      " 21  Total Districts              21759 non-null  int64  \n",
      " 22  Total Urban Villages         21142 non-null  float64\n",
      " 23  Total Rural Villages         21117 non-null  float64\n",
      " 24  Area (km2)                   21759 non-null  int64  \n",
      " 25  Population                   21759 non-null  int64  \n",
      " 26  Population Density           21759 non-null  float64\n",
      " 27  Longitude                    21759 non-null  float64\n",
      " 28  Latitude                     21759 non-null  float64\n",
      " 29  New Cases per Million        21759 non-null  float64\n",
      " 30  Total Cases per Million      21759 non-null  float64\n",
      " 31  New Deaths per Million       21759 non-null  float64\n",
      " 32  Total Deaths per Million     21759 non-null  float64\n",
      " 33  Total Deaths per 100rb       21759 non-null  float64\n",
      " 34  Case Fatality Rate           21759 non-null  object \n",
      " 35  Case Recovered Rate          21759 non-null  object \n",
      " 36  Growth Factor of New Cases   20572 non-null  float64\n",
      " 37  Growth Factor of New Deaths  19292 non-null  float64\n",
      "dtypes: float64(14), int64(12), object(12)\n",
      "memory usage: 6.3+ MB\n"
     ]
    }
   ],
   "source": [
    "# check data types are appropriate for intended use\n",
    "raw_data.info()"
   ]
  },
  {
   "cell_type": "code",
   "execution_count": 6,
   "id": "55a77a54",
   "metadata": {},
   "outputs": [
    {
     "name": "stdout",
     "output_type": "stream",
     "text": [
      "✅ Date column is in datetime\n"
     ]
    }
   ],
   "source": [
    "# change date data type to avoid errors in time series sorting\n",
    "raw_data['Date'] = pd.to_datetime(raw_data['Date'], format=\"%m/%d/%Y\")\n",
    "\n",
    "# check date data type has been updated\n",
    "if pd.api.types.is_datetime64_ns_dtype(raw_data[\"Date\"]):\n",
    "    print(\"✅ Date column is in datetime\")\n",
    "else:\n",
    "    print(\"❌ Date column is not in datetime\")"
   ]
  },
  {
   "cell_type": "markdown",
   "id": "54f9ec34",
   "metadata": {},
   "source": [
    "## || 2.2 Missing Values"
   ]
  },
  {
   "cell_type": "markdown",
   "id": "b0565c42",
   "metadata": {},
   "source": [
    "A heatmap is used to quickly visualise any missing values in the dataset:"
   ]
  },
  {
   "cell_type": "code",
   "execution_count": 7,
   "id": "4432be0c",
   "metadata": {},
   "outputs": [
    {
     "data": {
      "image/png": "[encoded data removed]",
      "text/plain": [
       "<Figure size 1440x360 with 1 Axes>"
      ]
     },
     "metadata": {},
     "output_type": "display_data"
    }
   ],
   "source": [
    "# visualise missing values using a heat map\n",
    "sns.set(rc={\"figure.figsize\": (20, 5)})\n",
    "sns.heatmap(raw_data.isnull(), cmap=[background_color, model_color], cbar=False)\n",
    "plt.vlines(x=np.arange(raw_data.shape[1]), ymin=0, ymax=raw_data.shape[0], color=grid_color, linewidths=0.5)\n",
    "plt.show()"
   ]
  },
  {
   "cell_type": "markdown",
   "id": "2040d8c4",
   "metadata": {},
   "source": [
    "Some missing values are either of no interest or too difficult to restore. Furthermore, some columns are unreleated to the research questions. Both types of columns can be dropped for a more refined dataset:"
   ]
  },
  {
   "cell_type": "code",
   "execution_count": 8,
   "id": "4640cf7b",
   "metadata": {},
   "outputs": [
    {
     "name": "stdout",
     "output_type": "stream",
     "text": [
      "✅ Dropped columns are no longer present in the dataframe\n"
     ]
    }
   ],
   "source": [
    "# list of columns to drop\n",
    "columns_drop = [\"Location ISO Code\", \"Location Level\", \"City or Regency\", \"Province\", \"Country\", \"Continent\", \"Island\", \"Time Zone\", \"Special Status\", \"Total Regencies\", \"Total Cities\", \"Total Districts\", \"Total Urban Villages\", \"Total Rural Villages\", \"Longitude\", \"Latitude\", \"New Cases per Million\", \"Total Cases per Million\", \"New Deaths per Million\", \"Total Deaths per Million\", \"Total Deaths per 100rb\", \"Case Fatality Rate\", \"Case Recovered Rate\", \"Growth Factor of New Deaths\"]\n",
    "\n",
    "# drop columns in the list\n",
    "raw_data = raw_data.drop(columns_drop, axis=1)\n",
    "\n",
    "# check columns are no longer present\n",
    "if not any(col in raw_data.columns for col in columns_drop):\n",
    "    print(\"✅ Dropped columns are no longer present in the dataframe\")\n",
    "else:\n",
    "    print(\"❌ Dropped columns are still present in the dataframe\")"
   ]
  },
  {
   "cell_type": "markdown",
   "id": "d24475cb",
   "metadata": {},
   "source": [
    "However, the Growth Factor of New Cases is relevant. The growth factor is calculated based on previous day data in the same location. As it is derived data, all the data is recalculated rather than attempting to fill gaps. The unique locations are filtered into a temporary dataframe, growth calculated, and the temporary dataframe concatenated to a fresh one which is reindexed afterwards:"
   ]
  },
  {
   "cell_type": "code",
   "execution_count": 9,
   "id": "bf907076",
   "metadata": {},
   "outputs": [
    {
     "name": "stdout",
     "output_type": "stream",
     "text": [
      "✅ No missing values in Growth Factor of New Cases column\n",
      "✅ Updated dataframe shape matches original\n"
     ]
    }
   ],
   "source": [
    "# updated dataframe location sections will be added to this dataframe\n",
    "updated_data = pd.DataFrame()\n",
    "\n",
    "# list of the unique locations in the dataset\n",
    "unique_locations = raw_data.Location.unique()\n",
    "\n",
    "# update the growth factor of new cases column in each location\n",
    "for location in unique_locations:\n",
    "\n",
    "    # function to avoid zero division errors\n",
    "    def safe_division(numerator, denominator):\n",
    "        return denominator and numerator / denominator\n",
    "\n",
    "    # filter by location and sort by date\n",
    "    location = raw_data[raw_data[\"Location\"] == location]\n",
    "    location = location.sort_values(by=[\"Date\"], ignore_index=True)\n",
    "\n",
    "    # set the value of the first instance with no previous day data to 0\n",
    "    location.loc[0, \"Growth Factor of New Cases\"] = 0\n",
    "\n",
    "    # variable for loop removes the header row to avoid out of range error\n",
    "    entries = len(location) - 1\n",
    "\n",
    "    # variable to start on the first instance with previous day data\n",
    "    i = 1\n",
    "\n",
    "    # loop through all rows and calculate the growth factor\n",
    "    for rows in range(entries):\n",
    "\n",
    "        new = location.loc[i, \"New Cases\"]\n",
    "        previous = location.loc[i - 1, \"New Cases\"]\n",
    "\n",
    "        # updates value by dividing new cases with previous day new cases\n",
    "        location.loc[i, \"Growth Factor of New Cases\"] = safe_division(new, previous)\n",
    "\n",
    "        i += 1\n",
    "\n",
    "    # adds location section to main dataframe\n",
    "    updated_data = pd.concat([updated_data, location])\n",
    "    \n",
    "    \n",
    "# reindex the updated dataset by date\n",
    "updated_data = updated_data.sort_values(by=[\"Date\"],ignore_index=True)\n",
    "\n",
    "# check for missing values in the \"Growth Factor of New Cases\" column\n",
    "if updated_data[\"Growth Factor of New Cases\"].isnull().values.any():\n",
    "    print(\"❌ Missing values in Growth Factor of New Cases column\")\n",
    "else:\n",
    "    print(\"✅ No missing values in Growth Factor of New Cases column\")\n",
    "    \n",
    "# check data shape is consistent with original\n",
    "if updated_data.shape[0] == raw_data.shape[0]:\n",
    "    print(\"✅ Updated dataframe shape matches original\")\n",
    "else:\n",
    "    print(\"❌ Updated dataframe shape does not matches original\")"
   ]
  },
  {
   "cell_type": "markdown",
   "id": "63be9f88",
   "metadata": {},
   "source": [
    "As one research question will attempt to build a classifier, the relevant column needs to be converted into categorical data. One-hot encoding is used:"
   ]
  },
  {
   "cell_type": "code",
   "execution_count": 11,
   "id": "24dd9356",
   "metadata": {},
   "outputs": [
    {
     "name": "stdout",
     "output_type": "stream",
     "text": [
      "✅ Increasing column added and Growth Factor of New Cases column removed\n"
     ]
    }
   ],
   "source": [
    "# encoding growth rate as increasing or decreasing for use in classifier\n",
    "updated_data[\"Increasing\"] = np.where(updated_data[\"Growth Factor of New Cases\"] >= 1, 1, 0)\n",
    "\n",
    "# drop the subsequently unneeded column\n",
    "updated_data = updated_data.drop([\"Growth Factor of New Cases\"], axis=1,)\n",
    "\n",
    "# check expected columns are present and absent\n",
    "if \"Increasing\" not in updated_data.columns:\n",
    "    print(\"❌ Increasing column not added\")\n",
    "elif \"Growth Factor of New Cases\" in updated_data.columns:\n",
    "    print(\"❌ Growth Factor of New Cases column not removed\")\n",
    "else:\n",
    "    print(\"✅ Increasing column added and Growth Factor of New Cases column removed\")"
   ]
  },
  {
   "cell_type": "markdown",
   "id": "c93a84cd",
   "metadata": {},
   "source": [
    "## || 2.3 Check Duplicates"
   ]
  },
  {
   "cell_type": "markdown",
   "id": "6633be0a",
   "metadata": {},
   "source": [
    "Checking for duplicates is part of a standard data cleaning process, but is of heightend importance given the concatenation used previously:"
   ]
  },
  {
   "cell_type": "code",
   "execution_count": 12,
   "id": "18a25e21",
   "metadata": {},
   "outputs": [
    {
     "name": "stdout",
     "output_type": "stream",
     "text": [
      "✅ No duplicate values\n"
     ]
    }
   ],
   "source": [
    "# check data for duplicate rows\n",
    "if updated_data.duplicated().sum() > 0:\n",
    "    print(\"❌ Duplicate values:\")\n",
    "    print(updated_data[updated_data.duplicated()])\n",
    "else:\n",
    "    print(\"✅ No duplicate values\")"
   ]
  },
  {
   "cell_type": "markdown",
   "id": "870b87e4",
   "metadata": {},
   "source": [
    "## || 2.4 Data Filtering"
   ]
  },
  {
   "cell_type": "markdown",
   "id": "7f864cb7",
   "metadata": {},
   "source": [
    "The updated_data dataframe appears to hold both regional data and national data. These need to be separated so that the aggregated national data does not conflict with the regional:"
   ]
  },
  {
   "cell_type": "code",
   "execution_count": 13,
   "id": "de5e253f",
   "metadata": {},
   "outputs": [
    {
     "name": "stdout",
     "output_type": "stream",
     "text": [
      "✅ Both dataframes are accurate\n"
     ]
    }
   ],
   "source": [
    "# seperate national and regional data into seperate datasets\n",
    "national_data = updated_data[updated_data['Location'] == \"Indonesia\"]\n",
    "regional_data = updated_data[updated_data['Location'] != \"Indonesia\"]\n",
    "\n",
    "# resort and reindex\n",
    "national_data = national_data.sort_values(by=[\"Date\"],ignore_index=True)\n",
    "regional_data = regional_data.sort_values(by=[\"Date\"],ignore_index=True)\n",
    "\n",
    "# drop columns in national data set with static values\n",
    "national_data = national_data.drop(['Area (km2)', 'Population', 'Population Density'],axis=1)\n",
    "\n",
    "# check if national and regional dataframes are separated\n",
    "if (\"Indonesia\" in national_data[\"Location\"].values) and (\"Indonesia\" not in regional_data[\"Location\"].values):\n",
    "    print(\"✅ Both dataframes have been properly separated\")\n",
    "else:\n",
    "    print(\"❌ Both dataframes have not been properly separated\")"
   ]
  },
  {
   "cell_type": "markdown",
   "id": "ae8f2801",
   "metadata": {},
   "source": [
    "Population density and new active cases are both derived values, relevant only to the regional dataframe. A simple check can therefore be performed and values recalulated if needed:"
   ]
  },
  {
   "cell_type": "code",
   "execution_count": null,
   "id": "c09ce0d1",
   "metadata": {},
   "outputs": [],
   "source": [
    "# check for entries where the derived population density value is inaccurate\n",
    "if regional_data.loc[(np.floor(regional_data[\"Population Density\"]) != np.floor((regional_data[\"Population\"] / regional_data[\"Area (km2)\"])))].empty:\n",
    "    print(\"✅ Derived population density values are accurate\")\n",
    "else:\n",
    "    print(\"❌ Derived population density values are inaccurate\")\n",
    "    display(regional_data.loc[(np.floor(regional_data[\"Population Density\"]) != np.floor((regional_data[\"Population\"] / regional_data[\"Area (km2)\"])))])"
   ]
  },
  {
   "cell_type": "code",
   "execution_count": null,
   "id": "9ba70f5d",
   "metadata": {},
   "outputs": [],
   "source": [
    "# check for entries where the derived new active cases value is inaccurate\n",
    "if (regional_data[\"New Active Cases\"] == (regional_data[\"New Cases\"] - regional_data[\"New Deaths\"] - regional_data[\"New Recovered\"])).all():\n",
    "    print(\"✅ Derived new active case value is accurate\")\n",
    "else:\n",
    "    print(\"❌ Inaccurate derived new active case value\")"
   ]
  },
  {
   "cell_type": "markdown",
   "id": "20322de9",
   "metadata": {},
   "source": [
    "The WHO publish the total cases and deaths at a national level. Data in the national dataframe can be somewhat validated by ensuring neither case or death totals exceed the WHO figure prematurely:"
   ]
  },
  {
   "cell_type": "code",
   "execution_count": null,
   "id": "5e64058e",
   "metadata": {},
   "outputs": [],
   "source": [
    "# who culmulative totals as of January 3rd 2022\n",
    "who_cases = 4266195\n",
    "who_deaths = 144129\n",
    "\n",
    "# check for impossible values that exceeding lagged who figures\n",
    "if (national_data[\"Total Cases\"] >= who_cases).any() or (national_data[\"Total Deaths\"] >= who_deaths).any():\n",
    "    print(\"❌ Some values exceeded the WHO totals\")\n",
    "else:\n",
    "    print(\"✅ No values exceeded the WHO totals\")"
   ]
  },
  {
   "cell_type": "markdown",
   "id": "2776dab5",
   "metadata": {},
   "source": [
    "## || 2.5 Detecting Outliers"
   ]
  },
  {
   "cell_type": "markdown",
   "id": "481a0378",
   "metadata": {},
   "source": [
    "### ||| 2.5.1 National Data"
   ]
  },
  {
   "cell_type": "markdown",
   "id": "41040de4",
   "metadata": {},
   "source": [
    "Visualising the time series values allows for identification of trends and visualising the value distribution helps identify abnormalities in the data. Both can help with outlier detection:"
   ]
  },
  {
   "cell_type": "code",
   "execution_count": null,
   "id": "c4b6690c",
   "metadata": {},
   "outputs": [],
   "source": [
    "# all column names to be inspected for outliers\n",
    "attributes = [\"New Cases\", \"New Deaths\", \"New Recovered\"]\n",
    "\n",
    "for attribute in attributes:\n",
    "\n",
    "    # loop to calculate moving average exponential smoothing for each attribute\n",
    "    ema_fit = SimpleExpSmoothing(national_data[attribute]).fit(smoothing_level=0.2,optimized=False)\n",
    "    ema = ema_fit.forecast(3).rename(r'$\\alpha=0.2$')\n",
    "    \n",
    "    # creates new columns to hold model calculations\n",
    "    national_data[attribute + ' EMA'] = ema_fit.predict(start = 0)\n",
    "    national_data[attribute + ' Difference'] = national_data[attribute] - national_data[attribute + ' EMA']\n",
    "\n",
    "# list for looping through subplot graphs\n",
    "rows = [0,1,2]\n",
    "columns = [0,1]\n",
    "ema_titles = ['New Cases Over Time', 'New Cases Difference Distribution', 'New Deaths Over Time', 'New Deaths Difference Distribution', 'New Recovered Over Time', 'New Recovered Difference Distribution']\n",
    "\n",
    "# graph display settings\n",
    "fig, ax = plt.subplots(3, 2)\n",
    "fig.set_figwidth(20)\n",
    "fig.set_figheight(20)\n",
    "\n",
    "# loop to set background colors and ema_titles for each subplot\n",
    "k=0\n",
    "for i in range(len(rows)):\n",
    "    for j in range(len(columns)):\n",
    "        ax[i,j].set_facecolor(background_color)\n",
    "        ax[i,j].set_title(ema_titles[k],fontweight='bold')\n",
    "        ax[i,j].grid(color=grid_color, linestyle='-', linewidth=1, axis='x')\n",
    "        ax[i,j].grid(color=background_color, linestyle='-', linewidth=1, axis='y')\n",
    "        #ax[i,j].set_facecolor('whitesmoke')\n",
    "        k+=1\n",
    "\n",
    "# loop for scatterplots and histographs for each attribute\n",
    "l=0\n",
    "for attribute in attributes:\n",
    "    ax[l, 0].plot(national_data[attribute + ' EMA'], color = model_color, lw=4)\n",
    "    ax[l, 0].plot(national_data[attribute], color = data_color);\n",
    "    ax[l, 1].hist(national_data[attribute + ' Difference'], color = model_color, lw=0);\n",
    "    l+=1"
   ]
  },
  {
   "cell_type": "markdown",
   "id": "470b1a2e",
   "metadata": {},
   "source": [
    "Outlier detection is also facilitated by using moving average exponential smoothing as it helps to smooth out any fluctuations or noise in the data, making it easier to identify any significant deviations from the expected pattern:"
   ]
  },
  {
   "cell_type": "code",
   "execution_count": null,
   "id": "4d1886b7",
   "metadata": {},
   "outputs": [],
   "source": [
    "# adjust values to capture most of histogram data and identify expected outliers \n",
    "national_data_cases_range = 13000\n",
    "national_data_deaths_range = 400\n",
    "national_data_recovered_range = 9000\n",
    "ranges = [national_data_cases_range, national_data_deaths_range,national_data_recovered_range]\n",
    "\n",
    "outlier_titles = [\"New Case Possible Outliers\", \"New Deaths Possible Outliers\", \"New Recovered Possible Outliers\"]\n",
    "\n",
    "fig, ax = plt.subplots(3)\n",
    "\n",
    "i=0\n",
    "for attribute in attributes:\n",
    "    national_data[attribute + ' Upper'] = national_data[attribute + ' EMA'] + ranges[i]\n",
    "    national_data[attribute + ' Lower'] = national_data[attribute + ' EMA'] - ranges[i]\n",
    "\n",
    "    ax[i].plot(national_data[attribute],'k.',markersize=3,label='Actual')\n",
    "    ax[i].fill_between(np.arange(national_data.shape[0]), national_data[attribute + ' Lower'], national_data[attribute + ' Upper'], color=model_color)\n",
    "    \n",
    "    ax[i].set_title(outlier_titles[i],fontweight='bold')\n",
    "    ax[i].grid(color=grid_color, linestyle='-', linewidth=1, axis='x')\n",
    "    ax[i].grid(color=background_color, linestyle='-', linewidth=1, axis='y')\n",
    "    ax[i].set_facecolor(background_color)\n",
    "    \n",
    "    i+=1\n",
    "\n",
    "fig.set_figwidth(20)\n",
    "fig.set_figheight(20)"
   ]
  },
  {
   "cell_type": "markdown",
   "id": "46ab0d02",
   "metadata": {},
   "source": [
    "### ||| 2.5.2 Regional Data"
   ]
  },
  {
   "cell_type": "markdown",
   "id": "b9edccea",
   "metadata": {},
   "source": [
    "As with the national data, the regional data benefits from visualising time series values and value distribution:"
   ]
  },
  {
   "cell_type": "code",
   "execution_count": null,
   "id": "6c74d276",
   "metadata": {},
   "outputs": [],
   "source": [
    "for attribute in attributes:\n",
    "\n",
    "    # loop to calculate moving average exponential smoothing for each attribute\n",
    "    ema_fit = SimpleExpSmoothing(regional_data[attribute]).fit(smoothing_level=0.6,optimized=False)\n",
    "    ema = ema_fit.forecast(3).rename(r'$\\alpha=0.2$')\n",
    "    \n",
    "    # creates new columns to hold model calculations\n",
    "    regional_data[attribute + ' EMA'] = ema_fit.predict(start = 0)\n",
    "    regional_data[attribute + ' Difference'] = regional_data[attribute] - regional_data[attribute + ' EMA']\n",
    "\n",
    "# graph display settings\n",
    "fig, ax = plt.subplots(3, 2)\n",
    "fig.set_figwidth(20)\n",
    "fig.set_figheight(20)\n",
    "\n",
    "# loop to set background colors and ema_titles for each subplot\n",
    "k=0\n",
    "for i in range(len(rows)):\n",
    "    for j in range(len(columns)):\n",
    "        ax[i,j].set_facecolor(background_color)\n",
    "        ax[i,j].set_title(ema_titles[k],fontweight='bold')\n",
    "        ax[i,j].grid(color='#E0E0E0', linestyle='-', linewidth=1, axis='x')\n",
    "        ax[i,j].grid(color=grid_color, linestyle='-', linewidth=1, axis='y')\n",
    "        ax[i,j].set_facecolor(background_color)\n",
    "        k+=1\n",
    "\n",
    "# loop for scatterplots and histographs for each attribute\n",
    "l=0\n",
    "for attribute in attributes:\n",
    "    \n",
    "    ax[l, 0].plot(regional_data[attribute], color = data_color);\n",
    "    ax[l, 0].plot(regional_data[attribute + ' EMA'], color = model_color)\n",
    "    ax[l, 1].hist(regional_data[attribute + ' Difference'], color = model_color, lw=0);\n",
    "    l+=1\n",
    "    \n",
    "    \n",
    "    \n",
    "  \n",
    "    "
   ]
  },
  {
   "cell_type": "code",
   "execution_count": null,
   "id": "5d19be74",
   "metadata": {},
   "outputs": [],
   "source": [
    "# inspect histograms and determine how far the majority of data differs from the moving averange\n",
    "regional_data_cases_range = 4900\n",
    "regional_data_deaths_range = 180\n",
    "regional_data_recovered_range = 5500\n",
    "ranges = [regional_data_cases_range, regional_data_deaths_range,regional_data_recovered_range]\n",
    "\n",
    "outlier_titles = [\"New Case Possible Outliers\", \"New Deaths Possible Outliers\", \"New Recovered Possible Outliers\"]\n",
    "\n",
    "fig, ax = plt.subplots(3)\n",
    "\n",
    "i=0\n",
    "for attribute in attributes:\n",
    "    regional_data[attribute + ' Upper'] = regional_data[attribute + ' EMA'] + ranges[i]\n",
    "    regional_data[attribute + ' Lower'] = regional_data[attribute + ' EMA'] - ranges[i]\n",
    "\n",
    "    ax[i].plot(regional_data[attribute],'k.',markersize=3,label='Actual')\n",
    "    ax[i].fill_between(np.arange(regional_data.shape[0]), regional_data[attribute + ' Lower'], regional_data[attribute + ' Upper'], color=model_color,label=\"Predicted interval\")\n",
    "    \n",
    "    ax[i].set_title(outlier_titles[i],fontweight='bold')\n",
    "    ax[i].grid(color=grid_color, linestyle='-', linewidth=1, axis='x')\n",
    "    ax[i].grid(color=background_color, linestyle='-', linewidth=1, axis='y')\n",
    "    ax[i].set_facecolor(background_color)\n",
    "    \n",
    "    i+=1\n",
    "\n",
    "fig.set_figwidth(20)\n",
    "fig.set_figheight(20)"
   ]
  },
  {
   "cell_type": "code",
   "execution_count": null,
   "id": "a1382068",
   "metadata": {},
   "outputs": [],
   "source": [
    "national_cleaned = national_data\n",
    "regional_cleaned = regional_data\n",
    "\n",
    "# replace outliers with ema value in national_cleaned dataframe\n",
    "for attribute in attributes:\n",
    "    national_cleaned[attribute] = np.where(\n",
    "        national_cleaned[attribute] > national_cleaned[attribute + \" Upper\"],\n",
    "        national_cleaned[attribute + \" EMA\"],\n",
    "        national_cleaned[attribute],\n",
    "    )\n",
    "    \n",
    "    national_cleaned[attribute] = np.where(\n",
    "        national_cleaned[attribute] < national_cleaned[attribute + \" Lower\"],\n",
    "        national_cleaned[attribute + \" EMA\"],\n",
    "        national_cleaned[attribute],\n",
    "    )\n",
    "    \n",
    "# replacing spike outliers not picked up by ema process\n",
    "national_cleaned[\"New Deaths\"] = np.where((national_cleaned[\"Date\"] == '2021-01-28') & (national_cleaned[\"New Deaths\"] == 476), national_cleaned[\"New Deaths EMA\"], national_cleaned[\"New Deaths\"])\n",
    "national_cleaned[\"New Deaths\"] = np.where((national_cleaned[\"Date\"] == '2021-04-04') & (national_cleaned[\"New Deaths\"] == 427), national_cleaned[\"New Deaths EMA\"], national_cleaned[\"New Deaths\"])\n",
    "\n",
    "national_cleaned[\"New Recovered\"] = np.where((national_cleaned[\"Date\"] == '2021-06-03') & (national_cleaned[\"New Recovered\"] == 11092), national_cleaned[\"New Recovered EMA\"], national_cleaned[\"New Recovered\"])\n",
    "\n",
    "regional_cleaned[\"New Cases\"] = np.where((regional_cleaned[\"Date\"] == '2021-08-25') & (regional_cleaned[\"New Cases\"] == 5463), regional_cleaned[\"New Cases EMA\"], regional_cleaned[\"New Cases\"])\n",
    "regional_cleaned[\"New Cases\"] = np.where((regional_cleaned[\"Date\"] == '2021-08-26') & (regional_cleaned[\"New Cases\"] == 5059), regional_cleaned[\"New Cases EMA\"], regional_cleaned[\"New Cases\"])\n",
    "regional_cleaned[\"New Cases\"] = np.where((regional_cleaned[\"Date\"] == '2021-08-24') & (regional_cleaned[\"New Cases\"] == 5254), regional_cleaned[\"New Cases EMA\"], regional_cleaned[\"New Cases\"])\n",
    "regional_cleaned[\"New Cases\"] = np.where((regional_cleaned[\"Date\"] == '2021-04-04') & (regional_cleaned[\"New Cases\"] == 3501), regional_cleaned[\"New Cases EMA\"], regional_cleaned[\"New Cases\"])\n",
    "regional_cleaned[\"New Cases\"] = np.where((regional_cleaned[\"Date\"] == '2021-02-17') & (regional_cleaned[\"New Cases\"] == 4507), regional_cleaned[\"New Cases EMA\"], regional_cleaned[\"New Cases\"])\n",
    "regional_cleaned[\"New Cases\"] = np.where((regional_cleaned[\"Date\"] == '2021-02-23') & (regional_cleaned[\"New Cases\"] == 4593), regional_cleaned[\"New Cases EMA\"], regional_cleaned[\"New Cases\"])\n",
    "\n",
    "regional_cleaned[\"New Deaths\"] = np.where((regional_cleaned[\"Date\"] == '2020-10-28') & (regional_cleaned[\"New Deaths\"] == 269), regional_cleaned[\"New Deaths EMA\"], regional_cleaned[\"New Deaths\"])\n",
    "regional_cleaned[\"New Deaths\"] = np.where((regional_cleaned[\"Date\"] == '2021-04-04') & (regional_cleaned[\"New Deaths\"] == 177), regional_cleaned[\"New Deaths EMA\"], regional_cleaned[\"New Deaths\"])\n",
    "regional_cleaned[\"New Deaths\"] = np.where((regional_cleaned[\"Date\"] == '2020-12-31') & (regional_cleaned[\"New Deaths\"] == 163), regional_cleaned[\"New Deaths EMA\"], regional_cleaned[\"New Deaths\"])\n",
    "regional_cleaned[\"New Deaths\"] = np.where((regional_cleaned[\"Date\"] == '2021-07-07') & (regional_cleaned[\"New Deaths\"] == 368), regional_cleaned[\"New Deaths EMA\"], regional_cleaned[\"New Deaths\"])\n",
    "regional_cleaned[\"New Deaths\"] = np.where((regional_cleaned[\"Date\"] == '2021-09-07') & (regional_cleaned[\"New Deaths\"] == 252), regional_cleaned[\"New Deaths EMA\"], regional_cleaned[\"New Deaths\"])\n",
    "\n",
    "regional_cleaned[\"New Recovered\"] = np.where((regional_cleaned[\"Date\"] == '2020-10-28') & (regional_cleaned[\"New Recovered\"] == 8184), regional_cleaned[\"New Recovered EMA\"], regional_cleaned[\"New Recovered\"])\n",
    "regional_cleaned[\"New Recovered\"] = np.where((regional_cleaned[\"Date\"] == '2021-04-04') & (regional_cleaned[\"New Recovered\"] == 5599), regional_cleaned[\"New Recovered EMA\"], regional_cleaned[\"New Recovered\"])\n",
    "regional_cleaned[\"New Recovered\"] = np.where((regional_cleaned[\"Date\"] == '2021-06-03') & (regional_cleaned[\"New Recovered\"] == 7622), regional_cleaned[\"New Recovered EMA\"], regional_cleaned[\"New Recovered\"])\n",
    "                                       \n",
    "# drop columns used to calculate outliers\n",
    "national_cleaned = national_cleaned.drop([\"New Cases EMA\", \"New Cases Difference\", \"New Deaths EMA\", \"New Deaths Difference\", \"New Recovered EMA\", \"New Recovered Difference\", \"New Cases Upper\", \"New Cases Lower\", \"New Deaths Upper\", \"New Deaths Lower\", \"New Recovered Upper\", \"New Recovered Lower\"],axis=1,)\n",
    "regional_cleaned = regional_cleaned.drop([\"New Cases EMA\", \"New Cases Difference\", \"New Deaths EMA\", \"New Deaths Difference\", \"New Recovered EMA\", \"New Recovered Difference\", \"New Cases Upper\", \"New Cases Lower\", \"New Deaths Upper\", \"New Deaths Lower\", \"New Recovered Upper\", \"New Recovered Lower\"],axis=1,)"
   ]
  },
  {
   "cell_type": "code",
   "execution_count": null,
   "id": "a6c91c5f",
   "metadata": {},
   "outputs": [],
   "source": [
    "# visual check of changes\n",
    "national_cleaned.head(0)"
   ]
  },
  {
   "cell_type": "code",
   "execution_count": null,
   "id": "b52a71c3",
   "metadata": {},
   "outputs": [],
   "source": [
    "# visual check of changes\n",
    "regional_cleaned.head(0)"
   ]
  },
  {
   "cell_type": "markdown",
   "id": "fbdd42fa",
   "metadata": {},
   "source": [
    "# | 3.0 Saving Data"
   ]
  },
  {
   "cell_type": "markdown",
   "id": "67fdb7f6",
   "metadata": {},
   "source": [
    "In order to avoid repeating this data cleaning process needlessly, the national and regional data can be saved to their own respective CSV files for future use:"
   ]
  },
  {
   "cell_type": "code",
   "execution_count": null,
   "id": "d42f0f8c",
   "metadata": {},
   "outputs": [],
   "source": [
    "# save each subset to its own file\n",
    "national_cleaned.to_csv('./data/cleaned/national_cleaned.csv', index = True)\n",
    "regional_cleaned.to_csv('./data/cleaned/regional_cleaned.csv', index = True)"
   ]
  }
 ],
 "metadata": {
  "kernelspec": {
   "display_name": "Python 3 (ipykernel)",
   "language": "python",
   "name": "python3"
  },
  "language_info": {
   "codemirror_mode": {
    "name": "ipython",
    "version": 3
   },
   "file_extension": ".py",
   "mimetype": "text/x-python",
   "name": "python",
   "nbconvert_exporter": "python",
   "pygments_lexer": "ipython3",
   "version": "3.10.6"
  }
 },
 "nbformat": 4,
 "nbformat_minor": 5
}
