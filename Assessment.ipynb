{
 "cells": [
  {
   "cell_type": "markdown",
   "id": "7c44fc2a",
   "metadata": {},
   "source": [
    "# Assessment"
   ]
  },
  {
   "cell_type": "markdown",
   "id": "4c53e017",
   "metadata": {},
   "source": [
    "# Imports"
   ]
  },
  {
   "cell_type": "code",
   "execution_count": 169,
   "id": "75700d50",
   "metadata": {},
   "outputs": [],
   "source": [
    "import matplotlib.pyplot as plt\n",
    "import numpy as np\n",
    "import pandas as pd\n",
    "import seaborn as sns\n",
    "from sklearn.model_selection import train_test_split\n",
    "from sklearn import tree\n",
    "from sklearn.tree import DecisionTreeClassifier"
   ]
  },
  {
   "cell_type": "code",
   "execution_count": 170,
   "id": "34c8a4ce",
   "metadata": {},
   "outputs": [
    {
     "data": {
      "text/html": [
       "<div>\n",
       "<style scoped>\n",
       "    .dataframe tbody tr th:only-of-type {\n",
       "        vertical-align: middle;\n",
       "    }\n",
       "\n",
       "    .dataframe tbody tr th {\n",
       "        vertical-align: top;\n",
       "    }\n",
       "\n",
       "    .dataframe thead th {\n",
       "        text-align: right;\n",
       "    }\n",
       "</style>\n",
       "<table border=\"1\" class=\"dataframe\">\n",
       "  <thead>\n",
       "    <tr style=\"text-align: right;\">\n",
       "      <th></th>\n",
       "      <th>Date</th>\n",
       "      <th>Location</th>\n",
       "      <th>New Cases</th>\n",
       "      <th>New Deaths</th>\n",
       "      <th>New Recovered</th>\n",
       "      <th>New Active Cases</th>\n",
       "      <th>Total Cases</th>\n",
       "      <th>Total Deaths</th>\n",
       "      <th>Total Recovered</th>\n",
       "      <th>Total Active Cases</th>\n",
       "      <th>Area (km2)</th>\n",
       "      <th>Population</th>\n",
       "      <th>Population Density</th>\n",
       "      <th>Increasing</th>\n",
       "    </tr>\n",
       "  </thead>\n",
       "  <tbody>\n",
       "    <tr>\n",
       "      <th>0</th>\n",
       "      <td>2020-03-01</td>\n",
       "      <td>DKI Jakarta</td>\n",
       "      <td>2.0</td>\n",
       "      <td>0.0</td>\n",
       "      <td>0.0</td>\n",
       "      <td>2</td>\n",
       "      <td>39</td>\n",
       "      <td>20</td>\n",
       "      <td>41</td>\n",
       "      <td>-22</td>\n",
       "      <td>664</td>\n",
       "      <td>10846145</td>\n",
       "      <td>16334.31</td>\n",
       "      <td>0</td>\n",
       "    </tr>\n",
       "    <tr>\n",
       "      <th>1</th>\n",
       "      <td>2020-03-02</td>\n",
       "      <td>Riau</td>\n",
       "      <td>1.0</td>\n",
       "      <td>0.0</td>\n",
       "      <td>0.0</td>\n",
       "      <td>1</td>\n",
       "      <td>2</td>\n",
       "      <td>0</td>\n",
       "      <td>3</td>\n",
       "      <td>-1</td>\n",
       "      <td>87024</td>\n",
       "      <td>6074100</td>\n",
       "      <td>69.80</td>\n",
       "      <td>0</td>\n",
       "    </tr>\n",
       "    <tr>\n",
       "      <th>2</th>\n",
       "      <td>2020-03-02</td>\n",
       "      <td>DKI Jakarta</td>\n",
       "      <td>2.0</td>\n",
       "      <td>0.0</td>\n",
       "      <td>0.0</td>\n",
       "      <td>2</td>\n",
       "      <td>41</td>\n",
       "      <td>20</td>\n",
       "      <td>41</td>\n",
       "      <td>-20</td>\n",
       "      <td>664</td>\n",
       "      <td>10846145</td>\n",
       "      <td>16334.31</td>\n",
       "      <td>1</td>\n",
       "    </tr>\n",
       "    <tr>\n",
       "      <th>3</th>\n",
       "      <td>2020-03-03</td>\n",
       "      <td>DKI Jakarta</td>\n",
       "      <td>2.0</td>\n",
       "      <td>0.0</td>\n",
       "      <td>0.0</td>\n",
       "      <td>2</td>\n",
       "      <td>43</td>\n",
       "      <td>20</td>\n",
       "      <td>41</td>\n",
       "      <td>-18</td>\n",
       "      <td>664</td>\n",
       "      <td>10846145</td>\n",
       "      <td>16334.31</td>\n",
       "      <td>1</td>\n",
       "    </tr>\n",
       "    <tr>\n",
       "      <th>4</th>\n",
       "      <td>2020-03-03</td>\n",
       "      <td>Riau</td>\n",
       "      <td>0.0</td>\n",
       "      <td>0.0</td>\n",
       "      <td>0.0</td>\n",
       "      <td>0</td>\n",
       "      <td>2</td>\n",
       "      <td>0</td>\n",
       "      <td>3</td>\n",
       "      <td>-1</td>\n",
       "      <td>87024</td>\n",
       "      <td>6074100</td>\n",
       "      <td>69.80</td>\n",
       "      <td>0</td>\n",
       "    </tr>\n",
       "  </tbody>\n",
       "</table>\n",
       "</div>"
      ],
      "text/plain": [
       "         Date     Location  New Cases  New Deaths  New Recovered  \\\n",
       "0  2020-03-01  DKI Jakarta        2.0         0.0            0.0   \n",
       "1  2020-03-02         Riau        1.0         0.0            0.0   \n",
       "2  2020-03-02  DKI Jakarta        2.0         0.0            0.0   \n",
       "3  2020-03-03  DKI Jakarta        2.0         0.0            0.0   \n",
       "4  2020-03-03         Riau        0.0         0.0            0.0   \n",
       "\n",
       "   New Active Cases  Total Cases  Total Deaths  Total Recovered  \\\n",
       "0                 2           39            20               41   \n",
       "1                 1            2             0                3   \n",
       "2                 2           41            20               41   \n",
       "3                 2           43            20               41   \n",
       "4                 0            2             0                3   \n",
       "\n",
       "   Total Active Cases  Area (km2)  Population  Population Density  Increasing  \n",
       "0                 -22         664    10846145            16334.31           0  \n",
       "1                  -1       87024     6074100               69.80           0  \n",
       "2                 -20         664    10846145            16334.31           1  \n",
       "3                 -18         664    10846145            16334.31           1  \n",
       "4                  -1       87024     6074100               69.80           0  "
      ]
     },
     "execution_count": 170,
     "metadata": {},
     "output_type": "execute_result"
    }
   ],
   "source": [
    "data = pd.read_csv(\"./data/regional_cleaned.csv\", index_col=0)\n",
    "\n",
    "# check data is loaded as expected\n",
    "pd.set_option(\"display.max_columns\", None)\n",
    "data.head()"
   ]
  },
  {
   "cell_type": "markdown",
   "id": "e6a79e4a",
   "metadata": {},
   "source": [
    "# Decision Tree\n",
    "https://towardsdatascience.com/understanding-decision-trees-for-classification-python-9663d683c952"
   ]
  },
  {
   "cell_type": "code",
   "execution_count": 171,
   "id": "af93a447",
   "metadata": {},
   "outputs": [],
   "source": [
    "#attributes = data.drop(['Date', \"Location\", 'Increasing'], axis=1)\n",
    "#target = data['Increasing']\n",
    "\n",
    "#X_train, X_test, Y_train, Y_test = train_test_split(attributes, target, random_state=0)"
   ]
  },
  {
   "cell_type": "code",
   "execution_count": 172,
   "id": "57ce4668",
   "metadata": {},
   "outputs": [],
   "source": [
    "from sklearn.preprocessing import QuantileTransformer\n",
    "transformer = QuantileTransformer(output_distribution='normal')\n",
    "\n",
    "attributes = data.drop(['Date', \"Location\", 'Increasing'], axis=1)\n",
    "\n",
    "attributes = transformer.fit_transform(attributes)\n",
    "\n",
    "\n",
    "from sklearn.preprocessing import StandardScaler\n",
    "sc = StandardScaler()\n",
    "attributes = sc.fit_transform(attributes)\n",
    "\n",
    "attributes = pd.DataFrame(attributes, columns=[\"New Cases\", \"New Deaths\", \"New Recovered\", \"New Active Cases\", \"Total Cases\", \"Total Deaths\", \"Total Recovered\", \"Total Active Cases\", \"Area (km2)\", \"Population\", \"Population Density\"])\n",
    "\n",
    "\n",
    "\n",
    "\n",
    "# reform dataframe with scaled values\n",
    "#filtered = pd.DataFrame(filtered, columns=['New Cases', \"New Deaths\", 'New Recovered', 'Total Cases', 'Total Deaths', 'Total Recovered', 'Total Active Cases', 'Population'])\n",
    "\n",
    "\n",
    "\n",
    "target = data['Increasing']\n",
    "\n",
    "X_train, X_test, Y_train, Y_test = train_test_split(attributes, target, random_state=0)\n",
    "X_train, X_test, Y_train, Y_test = train_test_split(attributes, target, random_state=0)"
   ]
  },
  {
   "cell_type": "code",
   "execution_count": 173,
   "id": "1c01658e",
   "metadata": {},
   "outputs": [],
   "source": [
    "clf = DecisionTreeClassifier(max_depth = 2)"
   ]
  },
  {
   "cell_type": "code",
   "execution_count": 174,
   "id": "e4a33dfc",
   "metadata": {},
   "outputs": [
    {
     "data": {
      "text/plain": [
       "DecisionTreeClassifier(max_depth=2)"
      ]
     },
     "execution_count": 174,
     "metadata": {},
     "output_type": "execute_result"
    }
   ],
   "source": [
    "clf.fit(X_train, Y_train)"
   ]
  },
  {
   "cell_type": "code",
   "execution_count": 175,
   "id": "7c3ea075",
   "metadata": {},
   "outputs": [
    {
     "data": {
      "text/html": [
       "<div>\n",
       "<style scoped>\n",
       "    .dataframe tbody tr th:only-of-type {\n",
       "        vertical-align: middle;\n",
       "    }\n",
       "\n",
       "    .dataframe tbody tr th {\n",
       "        vertical-align: top;\n",
       "    }\n",
       "\n",
       "    .dataframe thead th {\n",
       "        text-align: right;\n",
       "    }\n",
       "</style>\n",
       "<table border=\"1\" class=\"dataframe\">\n",
       "  <thead>\n",
       "    <tr style=\"text-align: right;\">\n",
       "      <th></th>\n",
       "      <th>New Cases</th>\n",
       "      <th>New Deaths</th>\n",
       "      <th>New Recovered</th>\n",
       "      <th>New Active Cases</th>\n",
       "      <th>Total Cases</th>\n",
       "      <th>Total Deaths</th>\n",
       "      <th>Total Recovered</th>\n",
       "      <th>Total Active Cases</th>\n",
       "      <th>Area (km2)</th>\n",
       "      <th>Population</th>\n",
       "      <th>Population Density</th>\n",
       "    </tr>\n",
       "  </thead>\n",
       "  <tbody>\n",
       "    <tr>\n",
       "      <th>0</th>\n",
       "      <td>-0.347948</td>\n",
       "      <td>-1.098578</td>\n",
       "      <td>-2.166113</td>\n",
       "      <td>0.120772</td>\n",
       "      <td>-1.551979</td>\n",
       "      <td>-0.690769</td>\n",
       "      <td>-1.230961</td>\n",
       "      <td>-2.356161</td>\n",
       "      <td>-3.427398</td>\n",
       "      <td>0.727441</td>\n",
       "      <td>3.433252</td>\n",
       "    </tr>\n",
       "    <tr>\n",
       "      <th>1</th>\n",
       "      <td>-0.432284</td>\n",
       "      <td>-1.098578</td>\n",
       "      <td>-2.166113</td>\n",
       "      <td>0.048944</td>\n",
       "      <td>-2.182564</td>\n",
       "      <td>-4.300421</td>\n",
       "      <td>-1.648187</td>\n",
       "      <td>-2.141942</td>\n",
       "      <td>0.578516</td>\n",
       "      <td>0.374936</td>\n",
       "      <td>-0.279407</td>\n",
       "    </tr>\n",
       "    <tr>\n",
       "      <th>2</th>\n",
       "      <td>-0.347948</td>\n",
       "      <td>-1.098578</td>\n",
       "      <td>-2.166113</td>\n",
       "      <td>0.120772</td>\n",
       "      <td>-1.543481</td>\n",
       "      <td>-0.690769</td>\n",
       "      <td>-1.230961</td>\n",
       "      <td>-2.342887</td>\n",
       "      <td>-3.427398</td>\n",
       "      <td>0.727441</td>\n",
       "      <td>3.433252</td>\n",
       "    </tr>\n",
       "    <tr>\n",
       "      <th>3</th>\n",
       "      <td>-0.347948</td>\n",
       "      <td>-1.098578</td>\n",
       "      <td>-2.166113</td>\n",
       "      <td>0.120772</td>\n",
       "      <td>-1.534322</td>\n",
       "      <td>-0.690769</td>\n",
       "      <td>-1.230961</td>\n",
       "      <td>-2.330015</td>\n",
       "      <td>-3.427398</td>\n",
       "      <td>0.727441</td>\n",
       "      <td>3.433252</td>\n",
       "    </tr>\n",
       "    <tr>\n",
       "      <th>4</th>\n",
       "      <td>-2.638329</td>\n",
       "      <td>-1.098578</td>\n",
       "      <td>-2.166113</td>\n",
       "      <td>-0.100632</td>\n",
       "      <td>-2.182564</td>\n",
       "      <td>-4.300421</td>\n",
       "      <td>-1.648187</td>\n",
       "      <td>-2.141942</td>\n",
       "      <td>0.578516</td>\n",
       "      <td>0.374936</td>\n",
       "      <td>-0.279407</td>\n",
       "    </tr>\n",
       "  </tbody>\n",
       "</table>\n",
       "</div>"
      ],
      "text/plain": [
       "   New Cases  New Deaths  New Recovered  New Active Cases  Total Cases  \\\n",
       "0  -0.347948   -1.098578      -2.166113          0.120772    -1.551979   \n",
       "1  -0.432284   -1.098578      -2.166113          0.048944    -2.182564   \n",
       "2  -0.347948   -1.098578      -2.166113          0.120772    -1.543481   \n",
       "3  -0.347948   -1.098578      -2.166113          0.120772    -1.534322   \n",
       "4  -2.638329   -1.098578      -2.166113         -0.100632    -2.182564   \n",
       "\n",
       "   Total Deaths  Total Recovered  Total Active Cases  Area (km2)  Population  \\\n",
       "0     -0.690769        -1.230961           -2.356161   -3.427398    0.727441   \n",
       "1     -4.300421        -1.648187           -2.141942    0.578516    0.374936   \n",
       "2     -0.690769        -1.230961           -2.342887   -3.427398    0.727441   \n",
       "3     -0.690769        -1.230961           -2.330015   -3.427398    0.727441   \n",
       "4     -4.300421        -1.648187           -2.141942    0.578516    0.374936   \n",
       "\n",
       "   Population Density  \n",
       "0            3.433252  \n",
       "1           -0.279407  \n",
       "2            3.433252  \n",
       "3            3.433252  \n",
       "4           -0.279407  "
      ]
     },
     "execution_count": 175,
     "metadata": {},
     "output_type": "execute_result"
    }
   ],
   "source": [
    "attributes.head()"
   ]
  },
  {
   "cell_type": "code",
   "execution_count": 151,
   "id": "983eab7b",
   "metadata": {},
   "outputs": [
    {
     "data": {
      "text/plain": [
       "[Text(334.8, 543.6, 'X[0] <= -0.948\\ngini = 0.489\\nsamples = 15837\\nvalue = [9117, 6720]'),\n",
       " Text(167.4, 326.16, 'X[0] <= -3.177\\ngini = 0.149\\nsamples = 2722\\nvalue = [2502, 220]'),\n",
       " Text(83.7, 108.72000000000003, 'gini = 0.0\\nsamples = 1644\\nvalue = [1644, 0]'),\n",
       " Text(251.10000000000002, 108.72000000000003, 'gini = 0.325\\nsamples = 1078\\nvalue = [858, 220]'),\n",
       " Text(502.20000000000005, 326.16, 'X[3] <= 0.448\\ngini = 0.5\\nsamples = 13115\\nvalue = [6615, 6500]'),\n",
       " Text(418.5, 108.72000000000003, 'gini = 0.485\\nsamples = 7953\\nvalue = [4658, 3295]'),\n",
       " Text(585.9, 108.72000000000003, 'gini = 0.471\\nsamples = 5162\\nvalue = [1957, 3205]')]"
      ]
     },
     "execution_count": 151,
     "metadata": {},
     "output_type": "execute_result"
    },
    {
     "data": {
      "image/png": "[encoded data removed]",
      "text/plain": [
       "<Figure size 864x864 with 1 Axes>"
      ]
     },
     "metadata": {
      "needs_background": "light"
     },
     "output_type": "display_data"
    }
   ],
   "source": [
    "plt.figure(figsize=(12,12))\n",
    "\n",
    "tree.plot_tree(clf)"
   ]
  },
  {
   "cell_type": "code",
   "execution_count": 176,
   "id": "d299d623",
   "metadata": {},
   "outputs": [
    {
     "data": {
      "text/plain": [
       "array([0, 0, 1, 0, 1, 0, 1, 1, 0, 0], dtype=int64)"
      ]
     },
     "execution_count": 176,
     "metadata": {},
     "output_type": "execute_result"
    }
   ],
   "source": [
    "# Predict for 1 observation\n",
    "clf.predict(X_test.iloc[0].values.reshape(1, -1))\n",
    "# Predict for multiple observations\n",
    "clf.predict(X_test[0:10])"
   ]
  },
  {
   "cell_type": "code",
   "execution_count": 177,
   "id": "36d6d0a2",
   "metadata": {},
   "outputs": [
    {
     "name": "stdout",
     "output_type": "stream",
     "text": [
      "0.6587121212121212\n"
     ]
    }
   ],
   "source": [
    "# The score method returns the accuracy of the model\n",
    "score = clf.score(X_test, Y_test)\n",
    "print(score)"
   ]
  },
  {
   "cell_type": "code",
   "execution_count": 178,
   "id": "c664dc37",
   "metadata": {},
   "outputs": [
    {
     "data": {
      "image/svg+xml": [
       "<?xml version=\"1.0\" encoding=\"UTF-8\" standalone=\"no\"?>\n",
       "<!DOCTYPE svg PUBLIC \"-//W3C//DTD SVG 1.1//EN\"\n",
       " \"http://www.w3.org/Graphics/SVG/1.1/DTD/svg11.dtd\">\n",
       "<!-- Generated by graphviz version 6.0.1 (20220911.1526)\n",
       " -->\n",
       "<!-- Title: Tree Pages: 1 -->\n",
       "<svg width=\"619pt\" height=\"261pt\"\n",
       " viewBox=\"0.00 0.00 618.50 261.00\" xmlns=\"http://www.w3.org/2000/svg\" xmlns:xlink=\"http://www.w3.org/1999/xlink\">\n",
       "<g id=\"graph0\" class=\"graph\" transform=\"scale(1 1) rotate(0) translate(4 257)\">\n",
       "<title>Tree</title>\n",
       "<polygon fill=\"white\" stroke=\"none\" points=\"-4,4 -4,-257 614.5,-257 614.5,4 -4,4\"/>\n",
       "<!-- 0 -->\n",
       "<g id=\"node1\" class=\"node\">\n",
       "<title>0</title>\n",
       "<path fill=\"#f8decb\" stroke=\"black\" d=\"M350.5,-253C350.5,-253 225.5,-253 225.5,-253 219.5,-253 213.5,-247 213.5,-241 213.5,-241 213.5,-201 213.5,-201 213.5,-195 219.5,-189 225.5,-189 225.5,-189 350.5,-189 350.5,-189 356.5,-189 362.5,-195 362.5,-201 362.5,-201 362.5,-241 362.5,-241 362.5,-247 356.5,-253 350.5,-253\"/>\n",
       "<text text-anchor=\"start\" x=\"255\" y=\"-238.8\" font-family=\"Helvetica,sans-Serif\" font-size=\"14.00\">X</text>\n",
       "<text text-anchor=\"start\" x=\"265\" y=\"-238.8\" font-family=\"Helvetica,sans-Serif\" baseline-shift=\"sub\" font-size=\"14.00\">0</text>\n",
       "<text text-anchor=\"start\" x=\"272\" y=\"-238.8\" font-family=\"Helvetica,sans-Serif\" font-size=\"14.00\"> ≤ &#45;0.32</text>\n",
       "<text text-anchor=\"start\" x=\"250\" y=\"-224.8\" font-family=\"Helvetica,sans-Serif\" font-size=\"14.00\">gini = 0.489</text>\n",
       "<text text-anchor=\"start\" x=\"232\" y=\"-210.8\" font-family=\"Helvetica,sans-Serif\" font-size=\"14.00\">samples = 15837</text>\n",
       "<text text-anchor=\"start\" x=\"221.5\" y=\"-196.8\" font-family=\"Helvetica,sans-Serif\" font-size=\"14.00\">value = [9117, 6720]</text>\n",
       "</g>\n",
       "<!-- 1 -->\n",
       "<g id=\"node2\" class=\"node\">\n",
       "<title>1</title>\n",
       "<path fill=\"#e78c4a\" stroke=\"black\" d=\"M265,-153C265,-153 149,-153 149,-153 143,-153 137,-147 137,-141 137,-141 137,-101 137,-101 137,-95 143,-89 149,-89 149,-89 265,-89 265,-89 271,-89 277,-95 277,-101 277,-101 277,-141 277,-141 277,-147 271,-153 265,-153\"/>\n",
       "<text text-anchor=\"start\" x=\"170\" y=\"-138.8\" font-family=\"Helvetica,sans-Serif\" font-size=\"14.00\">X</text>\n",
       "<text text-anchor=\"start\" x=\"180\" y=\"-138.8\" font-family=\"Helvetica,sans-Serif\" baseline-shift=\"sub\" font-size=\"14.00\">0</text>\n",
       "<text text-anchor=\"start\" x=\"187\" y=\"-138.8\" font-family=\"Helvetica,sans-Serif\" font-size=\"14.00\"> ≤ &#45;1.535</text>\n",
       "<text text-anchor=\"start\" x=\"169\" y=\"-124.8\" font-family=\"Helvetica,sans-Serif\" font-size=\"14.00\">gini = 0.149</text>\n",
       "<text text-anchor=\"start\" x=\"155\" y=\"-110.8\" font-family=\"Helvetica,sans-Serif\" font-size=\"14.00\">samples = 2722</text>\n",
       "<text text-anchor=\"start\" x=\"145\" y=\"-96.8\" font-family=\"Helvetica,sans-Serif\" font-size=\"14.00\">value = [2502, 220]</text>\n",
       "</g>\n",
       "<!-- 0&#45;&gt;1 -->\n",
       "<g id=\"edge1\" class=\"edge\">\n",
       "<title>0&#45;&gt;1</title>\n",
       "<path fill=\"none\" stroke=\"black\" d=\"M262.37,-188.99C255.06,-180.14 246.99,-170.39 239.34,-161.12\"/>\n",
       "<polygon fill=\"black\" stroke=\"black\" points=\"241.81,-158.62 232.74,-153.14 236.41,-163.08 241.81,-158.62\"/>\n",
       "<text text-anchor=\"middle\" x=\"230.38\" y=\"-174.33\" font-family=\"Helvetica,sans-Serif\" font-size=\"14.00\">True</text>\n",
       "</g>\n",
       "<!-- 4 -->\n",
       "<g id=\"node5\" class=\"node\">\n",
       "<title>4</title>\n",
       "<path fill=\"#fffdfc\" stroke=\"black\" d=\"M432.5,-153C432.5,-153 307.5,-153 307.5,-153 301.5,-153 295.5,-147 295.5,-141 295.5,-141 295.5,-101 295.5,-101 295.5,-95 301.5,-89 307.5,-89 307.5,-89 432.5,-89 432.5,-89 438.5,-89 444.5,-95 444.5,-101 444.5,-101 444.5,-141 444.5,-141 444.5,-147 438.5,-153 432.5,-153\"/>\n",
       "<text text-anchor=\"start\" x=\"335.5\" y=\"-138.8\" font-family=\"Helvetica,sans-Serif\" font-size=\"14.00\">X</text>\n",
       "<text text-anchor=\"start\" x=\"345.5\" y=\"-138.8\" font-family=\"Helvetica,sans-Serif\" baseline-shift=\"sub\" font-size=\"14.00\">3</text>\n",
       "<text text-anchor=\"start\" x=\"352.5\" y=\"-138.8\" font-family=\"Helvetica,sans-Serif\" font-size=\"14.00\"> ≤ 0.448</text>\n",
       "<text text-anchor=\"start\" x=\"340.5\" y=\"-124.8\" font-family=\"Helvetica,sans-Serif\" font-size=\"14.00\">gini = 0.5</text>\n",
       "<text text-anchor=\"start\" x=\"314\" y=\"-110.8\" font-family=\"Helvetica,sans-Serif\" font-size=\"14.00\">samples = 13115</text>\n",
       "<text text-anchor=\"start\" x=\"303.5\" y=\"-96.8\" font-family=\"Helvetica,sans-Serif\" font-size=\"14.00\">value = [6615, 6500]</text>\n",
       "</g>\n",
       "<!-- 0&#45;&gt;4 -->\n",
       "<g id=\"edge4\" class=\"edge\">\n",
       "<title>0&#45;&gt;4</title>\n",
       "<path fill=\"none\" stroke=\"black\" d=\"M313.95,-188.99C321.42,-180.06 329.68,-170.19 337.5,-160.84\"/>\n",
       "<polygon fill=\"black\" stroke=\"black\" points=\"340.21,-163.06 343.94,-153.14 334.84,-158.57 340.21,-163.06\"/>\n",
       "<text text-anchor=\"middle\" x=\"346.16\" y=\"-174.34\" font-family=\"Helvetica,sans-Serif\" font-size=\"14.00\">False</text>\n",
       "</g>\n",
       "<!-- 2 -->\n",
       "<g id=\"node3\" class=\"node\">\n",
       "<title>2</title>\n",
       "<path fill=\"#e58139\" stroke=\"black\" d=\"M112,-53C112,-53 12,-53 12,-53 6,-53 0,-47 0,-41 0,-41 0,-12 0,-12 0,-6 6,0 12,0 12,0 112,0 112,0 118,0 124,-6 124,-12 124,-12 124,-41 124,-41 124,-47 118,-53 112,-53\"/>\n",
       "<text text-anchor=\"start\" x=\"32.5\" y=\"-37.8\" font-family=\"Helvetica,sans-Serif\" font-size=\"14.00\">gini = 0.0</text>\n",
       "<text text-anchor=\"start\" x=\"10\" y=\"-22.8\" font-family=\"Helvetica,sans-Serif\" font-size=\"14.00\">samples = 1644</text>\n",
       "<text text-anchor=\"start\" x=\"8\" y=\"-7.8\" font-family=\"Helvetica,sans-Serif\" font-size=\"14.00\">value = [1644, 0]</text>\n",
       "</g>\n",
       "<!-- 1&#45;&gt;2 -->\n",
       "<g id=\"edge2\" class=\"edge\">\n",
       "<title>1&#45;&gt;2</title>\n",
       "<path fill=\"none\" stroke=\"black\" d=\"M158.31,-88.94C143.05,-79.2 126.19,-68.45 110.91,-58.7\"/>\n",
       "<polygon fill=\"black\" stroke=\"black\" points=\"112.43,-55.52 102.12,-53.09 108.66,-61.42 112.43,-55.52\"/>\n",
       "</g>\n",
       "<!-- 3 -->\n",
       "<g id=\"node4\" class=\"node\">\n",
       "<title>3</title>\n",
       "<path fill=\"#eca16c\" stroke=\"black\" d=\"M262,-53C262,-53 154,-53 154,-53 148,-53 142,-47 142,-41 142,-41 142,-12 142,-12 142,-6 148,0 154,0 154,0 262,0 262,0 268,0 274,-6 274,-12 274,-12 274,-41 274,-41 274,-47 268,-53 262,-53\"/>\n",
       "<text text-anchor=\"start\" x=\"170\" y=\"-37.8\" font-family=\"Helvetica,sans-Serif\" font-size=\"14.00\">gini = 0.325</text>\n",
       "<text text-anchor=\"start\" x=\"156\" y=\"-22.8\" font-family=\"Helvetica,sans-Serif\" font-size=\"14.00\">samples = 1078</text>\n",
       "<text text-anchor=\"start\" x=\"150\" y=\"-7.8\" font-family=\"Helvetica,sans-Serif\" font-size=\"14.00\">value = [858, 220]</text>\n",
       "</g>\n",
       "<!-- 1&#45;&gt;3 -->\n",
       "<g id=\"edge3\" class=\"edge\">\n",
       "<title>1&#45;&gt;3</title>\n",
       "<path fill=\"none\" stroke=\"black\" d=\"M207.34,-88.94C207.43,-80.66 207.52,-71.64 207.61,-63.13\"/>\n",
       "<polygon fill=\"black\" stroke=\"black\" points=\"211.11,-63.13 207.72,-53.09 204.12,-63.05 211.11,-63.13\"/>\n",
       "</g>\n",
       "<!-- 5 -->\n",
       "<g id=\"node6\" class=\"node\">\n",
       "<title>5</title>\n",
       "<path fill=\"#f7dac5\" stroke=\"black\" d=\"M431.5,-53C431.5,-53 306.5,-53 306.5,-53 300.5,-53 294.5,-47 294.5,-41 294.5,-41 294.5,-12 294.5,-12 294.5,-6 300.5,0 306.5,0 306.5,0 431.5,0 431.5,0 437.5,0 443.5,-6 443.5,-12 443.5,-12 443.5,-41 443.5,-41 443.5,-47 437.5,-53 431.5,-53\"/>\n",
       "<text text-anchor=\"start\" x=\"331\" y=\"-37.8\" font-family=\"Helvetica,sans-Serif\" font-size=\"14.00\">gini = 0.485</text>\n",
       "<text text-anchor=\"start\" x=\"317\" y=\"-22.8\" font-family=\"Helvetica,sans-Serif\" font-size=\"14.00\">samples = 7953</text>\n",
       "<text text-anchor=\"start\" x=\"302.5\" y=\"-7.8\" font-family=\"Helvetica,sans-Serif\" font-size=\"14.00\">value = [4658, 3295]</text>\n",
       "</g>\n",
       "<!-- 4&#45;&gt;5 -->\n",
       "<g id=\"edge5\" class=\"edge\">\n",
       "<title>4&#45;&gt;5</title>\n",
       "<path fill=\"none\" stroke=\"black\" d=\"M369.66,-88.94C369.57,-80.66 369.48,-71.64 369.39,-63.13\"/>\n",
       "<polygon fill=\"black\" stroke=\"black\" points=\"372.88,-63.05 369.28,-53.09 365.89,-63.13 372.88,-63.05\"/>\n",
       "</g>\n",
       "<!-- 6 -->\n",
       "<g id=\"node7\" class=\"node\">\n",
       "<title>6</title>\n",
       "<path fill=\"#b2d9f5\" stroke=\"black\" d=\"M598.5,-53C598.5,-53 473.5,-53 473.5,-53 467.5,-53 461.5,-47 461.5,-41 461.5,-41 461.5,-12 461.5,-12 461.5,-6 467.5,0 473.5,0 473.5,0 598.5,0 598.5,0 604.5,0 610.5,-6 610.5,-12 610.5,-12 610.5,-41 610.5,-41 610.5,-47 604.5,-53 598.5,-53\"/>\n",
       "<text text-anchor=\"start\" x=\"498\" y=\"-37.8\" font-family=\"Helvetica,sans-Serif\" font-size=\"14.00\">gini = 0.471</text>\n",
       "<text text-anchor=\"start\" x=\"484\" y=\"-22.8\" font-family=\"Helvetica,sans-Serif\" font-size=\"14.00\">samples = 5162</text>\n",
       "<text text-anchor=\"start\" x=\"469.5\" y=\"-7.8\" font-family=\"Helvetica,sans-Serif\" font-size=\"14.00\">value = [1957, 3205]</text>\n",
       "</g>\n",
       "<!-- 4&#45;&gt;6 -->\n",
       "<g id=\"edge6\" class=\"edge\">\n",
       "<title>4&#45;&gt;6</title>\n",
       "<path fill=\"none\" stroke=\"black\" d=\"M425.74,-88.94C443.54,-79.02 463.23,-68.05 480.99,-58.15\"/>\n",
       "<polygon fill=\"black\" stroke=\"black\" points=\"483.04,-61.02 490.07,-53.09 479.64,-54.9 483.04,-61.02\"/>\n",
       "</g>\n",
       "</g>\n",
       "</svg>\n"
      ],
      "text/plain": [
       "<graphviz.sources.Source at 0x1db8a424190>"
      ]
     },
     "execution_count": 178,
     "metadata": {},
     "output_type": "execute_result"
    }
   ],
   "source": [
    "import graphviz \n",
    "#dot_data = tree.export_graphviz(dt_clf, out_file=None) \n",
    "#graph = graphviz.Source(dot_data) \n",
    "\n",
    "dot_data = tree.export_graphviz(clf, out_file=None, filled=True, rounded=True, special_characters=True)  \n",
    "graph = graphviz.Source(dot_data)  \n",
    "graph "
   ]
  },
  {
   "cell_type": "code",
   "execution_count": 179,
   "id": "a0507572",
   "metadata": {},
   "outputs": [
    {
     "data": {
      "text/html": [
       "<div>\n",
       "<style scoped>\n",
       "    .dataframe tbody tr th:only-of-type {\n",
       "        vertical-align: middle;\n",
       "    }\n",
       "\n",
       "    .dataframe tbody tr th {\n",
       "        vertical-align: top;\n",
       "    }\n",
       "\n",
       "    .dataframe thead th {\n",
       "        text-align: right;\n",
       "    }\n",
       "</style>\n",
       "<table border=\"1\" class=\"dataframe\">\n",
       "  <thead>\n",
       "    <tr style=\"text-align: right;\">\n",
       "      <th></th>\n",
       "      <th>feature</th>\n",
       "      <th>importance</th>\n",
       "    </tr>\n",
       "  </thead>\n",
       "  <tbody>\n",
       "    <tr>\n",
       "      <th>0</th>\n",
       "      <td>New Cases</td>\n",
       "      <td>0.756</td>\n",
       "    </tr>\n",
       "    <tr>\n",
       "      <th>3</th>\n",
       "      <td>New Active Cases</td>\n",
       "      <td>0.244</td>\n",
       "    </tr>\n",
       "    <tr>\n",
       "      <th>1</th>\n",
       "      <td>New Deaths</td>\n",
       "      <td>0.000</td>\n",
       "    </tr>\n",
       "    <tr>\n",
       "      <th>2</th>\n",
       "      <td>New Recovered</td>\n",
       "      <td>0.000</td>\n",
       "    </tr>\n",
       "    <tr>\n",
       "      <th>4</th>\n",
       "      <td>Total Cases</td>\n",
       "      <td>0.000</td>\n",
       "    </tr>\n",
       "    <tr>\n",
       "      <th>5</th>\n",
       "      <td>Total Deaths</td>\n",
       "      <td>0.000</td>\n",
       "    </tr>\n",
       "    <tr>\n",
       "      <th>6</th>\n",
       "      <td>Total Recovered</td>\n",
       "      <td>0.000</td>\n",
       "    </tr>\n",
       "    <tr>\n",
       "      <th>7</th>\n",
       "      <td>Total Active Cases</td>\n",
       "      <td>0.000</td>\n",
       "    </tr>\n",
       "    <tr>\n",
       "      <th>8</th>\n",
       "      <td>Area (km2)</td>\n",
       "      <td>0.000</td>\n",
       "    </tr>\n",
       "    <tr>\n",
       "      <th>9</th>\n",
       "      <td>Population</td>\n",
       "      <td>0.000</td>\n",
       "    </tr>\n",
       "    <tr>\n",
       "      <th>10</th>\n",
       "      <td>Population Density</td>\n",
       "      <td>0.000</td>\n",
       "    </tr>\n",
       "  </tbody>\n",
       "</table>\n",
       "</div>"
      ],
      "text/plain": [
       "               feature  importance\n",
       "0            New Cases       0.756\n",
       "3     New Active Cases       0.244\n",
       "1           New Deaths       0.000\n",
       "2        New Recovered       0.000\n",
       "4          Total Cases       0.000\n",
       "5         Total Deaths       0.000\n",
       "6      Total Recovered       0.000\n",
       "7   Total Active Cases       0.000\n",
       "8           Area (km2)       0.000\n",
       "9           Population       0.000\n",
       "10  Population Density       0.000"
      ]
     },
     "execution_count": 179,
     "metadata": {},
     "output_type": "execute_result"
    }
   ],
   "source": [
    "importances = pd.DataFrame({'feature':X_train.columns,'importance':np.round(clf.feature_importances_,3)})\n",
    "importances = importances.sort_values('importance',ascending=False)\n",
    "importances"
   ]
  },
  {
   "cell_type": "code",
   "execution_count": 180,
   "id": "26119344",
   "metadata": {},
   "outputs": [
    {
     "data": {
      "text/plain": [
       "0.6527191558441559"
      ]
     },
     "execution_count": 180,
     "metadata": {},
     "output_type": "execute_result"
    }
   ],
   "source": [
    "# List of values to try for max_depth:\n",
    "max_depth_range = list(range(1, 15))\n",
    "# List to store the accuracy for each value of max_depth:\n",
    "accuracy = []\n",
    "for depth in max_depth_range:\n",
    "    \n",
    "    clf = DecisionTreeClassifier(max_depth = depth, \n",
    "                             random_state = 0)\n",
    "    clf.fit(X_train, Y_train)\n",
    "    score = clf.score(X_test, Y_test)\n",
    "    accuracy.append(score)\n",
    "\n",
    "from statistics import mean\n",
    "mean(accuracy)"
   ]
  },
  {
   "cell_type": "code",
   "execution_count": 181,
   "id": "b4f87a74",
   "metadata": {},
   "outputs": [
    {
     "data": {
      "image/png": "[encoded data removed]",
      "text/plain": [
       "<Figure size 432x288 with 1 Axes>"
      ]
     },
     "metadata": {
      "needs_background": "light"
     },
     "output_type": "display_data"
    }
   ],
   "source": [
    "plt.plot(max_depth_range,accuracy)\n",
    "plt.title('Optimal Depth')\n",
    "plt.xlabel('max_depth_range')\n",
    "plt.ylabel('Accuracy')\n",
    "plt.show()"
   ]
  },
  {
   "cell_type": "markdown",
   "id": "9738dd96",
   "metadata": {},
   "source": [
    "# Naive Bayes \n",
    "https://towardsdatascience.com/naive-bayes-classifier-explained-50f9723571ed"
   ]
  },
  {
   "cell_type": "code",
   "execution_count": 182,
   "id": "c19ec052",
   "metadata": {},
   "outputs": [],
   "source": [
    "from sklearn.naive_bayes import GaussianNB"
   ]
  },
  {
   "cell_type": "code",
   "execution_count": 183,
   "id": "d7b9db94",
   "metadata": {},
   "outputs": [],
   "source": [
    "clf_nb = GaussianNB().fit(X_train, Y_train)"
   ]
  },
  {
   "cell_type": "code",
   "execution_count": 184,
   "id": "9831d3a1",
   "metadata": {},
   "outputs": [
    {
     "name": "stdout",
     "output_type": "stream",
     "text": [
      "0.5885584390983141\n"
     ]
    }
   ],
   "source": [
    "print(clf_nb.score(X_train, Y_train))"
   ]
  },
  {
   "cell_type": "code",
   "execution_count": 185,
   "id": "3bbe0eeb",
   "metadata": {},
   "outputs": [
    {
     "name": "stdout",
     "output_type": "stream",
     "text": [
      "0.5789772727272727\n"
     ]
    }
   ],
   "source": [
    "print(clf_nb.score(X_test, Y_test))"
   ]
  },
  {
   "cell_type": "markdown",
   "id": "00486465",
   "metadata": {},
   "source": [
    "# SVM\n",
    "https://towardsdatascience.com/svm-support-vector-machine-for-classification-710a009f6873"
   ]
  },
  {
   "cell_type": "code",
   "execution_count": 186,
   "id": "b98af275",
   "metadata": {},
   "outputs": [],
   "source": [
    "from sklearn.svm import SVR"
   ]
  },
  {
   "cell_type": "code",
   "execution_count": 187,
   "id": "d3119340",
   "metadata": {},
   "outputs": [],
   "source": [
    "svr = SVR(kernel = 'linear',C = 1000)"
   ]
  },
  {
   "cell_type": "code",
   "execution_count": 188,
   "id": "4ee05455",
   "metadata": {},
   "outputs": [
    {
     "data": {
      "text/plain": [
       "array([0, 0, 1, ..., 1, 1, 1], dtype=int64)"
      ]
     },
     "execution_count": 188,
     "metadata": {},
     "output_type": "execute_result"
    }
   ],
   "source": [
    "from sklearn.preprocessing import StandardScaler\n",
    "sc_X = StandardScaler()\n",
    "X_train = sc_X.fit_transform(X_train)\n",
    "X_test = sc_X.transform(X_test)\n",
    "from sklearn import svm\n",
    "svm1 = svm.SVC(kernel='linear', C = 0.01)\n",
    "svm1.fit(X_test,Y_test)\n",
    "\n",
    "y_train_pred = svm1.predict(X_train)\n",
    "y_test_pred = svm1.predict(X_test)\n",
    "y_test_pred"
   ]
  },
  {
   "cell_type": "code",
   "execution_count": 189,
   "id": "e657c121",
   "metadata": {},
   "outputs": [],
   "source": [
    "from sklearn.metrics import accuracy_score,confusion_matrix"
   ]
  },
  {
   "cell_type": "code",
   "execution_count": 190,
   "id": "ef5c5b77",
   "metadata": {},
   "outputs": [
    {
     "data": {
      "text/plain": [
       "array([[2580,  543],\n",
       "       [1228,  929]], dtype=int64)"
      ]
     },
     "execution_count": 190,
     "metadata": {},
     "output_type": "execute_result"
    }
   ],
   "source": [
    "confusion_matrix(Y_test,y_test_pred)"
   ]
  },
  {
   "cell_type": "code",
   "execution_count": 191,
   "id": "b08e41a6",
   "metadata": {},
   "outputs": [
    {
     "data": {
      "text/plain": [
       "0.6645833333333333"
      ]
     },
     "execution_count": 191,
     "metadata": {},
     "output_type": "execute_result"
    }
   ],
   "source": [
    "accuracy_score(Y_test,y_test_pred)"
   ]
  },
  {
   "cell_type": "code",
   "execution_count": null,
   "id": "5977d842",
   "metadata": {},
   "outputs": [],
   "source": []
  },
  {
   "cell_type": "code",
   "execution_count": null,
   "id": "3ea1e422",
   "metadata": {},
   "outputs": [],
   "source": []
  },
  {
   "cell_type": "code",
   "execution_count": null,
   "id": "2c4fe103",
   "metadata": {},
   "outputs": [],
   "source": []
  },
  {
   "cell_type": "code",
   "execution_count": null,
   "id": "a4038828",
   "metadata": {},
   "outputs": [],
   "source": []
  },
  {
   "cell_type": "code",
   "execution_count": null,
   "id": "3e79ebaa",
   "metadata": {},
   "outputs": [],
   "source": []
  }
 ],
 "metadata": {
  "kernelspec": {
   "display_name": "Python 3 (ipykernel)",
   "language": "python",
   "name": "python3"
  },
  "language_info": {
   "codemirror_mode": {
    "name": "ipython",
    "version": 3
   },
   "file_extension": ".py",
   "mimetype": "text/x-python",
   "name": "python",
   "nbconvert_exporter": "python",
   "pygments_lexer": "ipython3",
   "version": "3.10.6"
  }
 },
 "nbformat": 4,
 "nbformat_minor": 5
}
